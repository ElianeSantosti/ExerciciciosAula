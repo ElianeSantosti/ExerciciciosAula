{
  "nbformat": 4,
  "nbformat_minor": 0,
  "metadata": {
    "colab": {
      "provenance": [],
      "authorship_tag": "ABX9TyP21TnqlQ3nvXIR+KWDlPaR",
      "include_colab_link": true
    },
    "kernelspec": {
      "name": "python3",
      "display_name": "Python 3"
    },
    "language_info": {
      "name": "python"
    }
  },
  "cells": [
    {
      "cell_type": "markdown",
      "metadata": {
        "id": "view-in-github",
        "colab_type": "text"
      },
      "source": [
        "<a href=\"https://colab.research.google.com/github/ElianeSantosti/ExerciciciosAula/blob/main/Exerc%C3%ADcios.ipynb\" target=\"_parent\"><img src=\"https://colab.research.google.com/assets/colab-badge.svg\" alt=\"Open In Colab\"/></a>"
      ]
    },
    {
      "cell_type": "markdown",
      "source": [
        "# Faça um programa que olhe todos os itens de uma lista e diga quantos deles são pares"
      ],
      "metadata": {
        "id": "ikDVQrDBRChI"
      }
    },
    {
      "cell_type": "code",
      "execution_count": 6,
      "metadata": {
        "colab": {
          "base_uri": "https://localhost:8080/"
        },
        "id": "v-omfFm8Q94V",
        "outputId": "25d0b025-a36f-4f40-e88b-3797c3fd6673"
      },
      "outputs": [
        {
          "output_type": "stream",
          "name": "stdout",
          "text": [
            "Números pares: [2, 8, 14, 20, 26]\n"
          ]
        }
      ],
      "source": [
        "def contar_pares(lista):\n",
        "    numeros_pares = []\n",
        "\n",
        "    for numero in lista:\n",
        "        if numero % 2 == 0:\n",
        "            numeros_pares.append(numero)\n",
        "\n",
        "    return numeros_pares\n",
        "\n",
        "lista = [2, 5, 8, 11, 14, 17, 20, 23, 26, 29]\n",
        "pares_encontrados = contar_pares(lista)\n",
        "\n",
        "print(f\"Números pares: {pares_encontrados}\")\n",
        "\n"
      ]
    },
    {
      "cell_type": "markdown",
      "source": [
        "# Faça um programa que imprima o maior número de uma lista, sem usar o método max()\n",
        "\n"
      ],
      "metadata": {
        "id": "pTF5wfpnS2Up"
      }
    },
    {
      "cell_type": "code",
      "source": [
        "notas = []\n",
        "for i in range(3):\n",
        "    nota = int(input(\"Insira sua nota: \"))\n",
        "    notas.append(nota)\n",
        "\n",
        "maior_nota = notas[0]\n",
        "for i in range(1, 3):\n",
        "    if notas[i] > maior_nota:\n",
        "        maior_nota = notas[i]\n",
        "\n",
        "print(\"A maior nota é:\", maior_nota)\n"
      ],
      "metadata": {
        "id": "n8Wo-bV1TRWJ"
      },
      "execution_count": null,
      "outputs": []
    },
    {
      "cell_type": "markdown",
      "source": [
        "# Faça um Programa que peça as 4 notas bimestrais e mostre a média, usando listas."
      ],
      "metadata": {
        "id": "D133bxtNT8Fv"
      }
    },
    {
      "cell_type": "code",
      "source": [
        "notas = []\n",
        "for i in range(4):\n",
        "    nota = float(input(f\"Digite a nota do {i+1}º bimestre: \"))\n",
        "    notas.append(nota)\n",
        "\n",
        "media = sum(notas) / len(notas)\n",
        "print(f\"A média das notas é: {media}\")\n"
      ],
      "metadata": {
        "id": "uLnLX78GT677"
      },
      "execution_count": null,
      "outputs": []
    },
    {
      "cell_type": "markdown",
      "source": [
        "## Considere que temos uma lista com os nomes de todos os alunos de uma turma, e outra com as notas, na mesma ordem. Como faríamos para acessar, simultaneamente, o nome de um aluno e a sua nota"
      ],
      "metadata": {
        "id": "vjkJs-_1Vq6p"
      }
    },
    {
      "cell_type": "code",
      "source": [
        "\n",
        "nomes_alunos = [\"Sofya\", \"Felipe\", \"Duda\"]\n",
        "\n",
        "\n",
        "notas_alunos = [9.5, 8.5, 7.5]\n",
        "for nome, nota in zip(nomes_alunos, notas_alunos):\n",
        "    print(f'Nome: {nome}, Nota: {nota}')\n",
        "\n",
        "\n"
      ],
      "metadata": {
        "colab": {
          "base_uri": "https://localhost:8080/"
        },
        "id": "uGFd9CgQUtn3",
        "outputId": "a45a5924-d207-4cb9-a113-6b316ae660fe"
      },
      "execution_count": 14,
      "outputs": [
        {
          "output_type": "stream",
          "name": "stdout",
          "text": [
            "Nome: Sofya, Nota: 9.5\n",
            "Nome: Felipe, Nota: 8.5\n",
            "Nome: Duda, Nota: 7.5\n"
          ]
        }
      ]
    },
    {
      "cell_type": "markdown",
      "source": [
        " Para que a entrega de alimentos seja feita com qualidade por um serviço de delivery, é muito importante que as caixas de transporte utilizadas por entregadores tenham um revestimento térmico interno, para manter a temperatura dos alimentos. Muitos destes revestimentos são importados de países que utilizam diferentes escalas de temperatura, de modo que as especificações quanto às temperaturas de operação podem gerar confusão.\n",
        "Pensando nisso, escreva um código em Python que recebe um número (que possa ter casas decimais) e a escala de temperatura em que este valor se encontra e para qual ele deseja converter (Celsius, Kelvin ou Fahrenheit). Tanto na escala em que se encontra quanto para a que deseja converter, utilize as letras iniciais como entrada: Celsius - 'C', Kelvin - 'K' ou Fahrenheit - 'F'.\n",
        "\n",
        "Importante: o programa deve trabalhar apenas com as 3 escalas supracitadas! Então, não deixe de fazer as validações necessárias. Além disso, por definição, não existem temperaturas em Kelvin abaixo de zero (o valor zero pode existir), portanto verifique também esta condição para que sejam feitas conversões válidas!"
      ],
      "metadata": {
        "id": "5q8aNM9JVvAC"
      }
    },
    {
      "cell_type": "code",
      "source": [
        "def valida_opcoes(valor: str, opcoes: list) -> bool:\n",
        "    return valor in opcoes\n",
        "\n",
        "def verifica_zero_absoluto(valor: float, escala: str, operacoes: dict) -> bool:\n",
        "    if escala != 'K':\n",
        "        valor = operacoes[escala]['K'](valor)\n",
        "\n",
        "    return valor >= 0\n",
        "\n",
        "def obter_opcoes(opcoes: dict, msg: str = 'Opções') -> str:\n",
        "    opcoes_str = ' | '.join([f'{key} - {values}' for key, values in opcoes.items()])\n",
        "    msg = f\"{msg} ({opcoes_str}):\"\n",
        "\n",
        "    while True:\n",
        "        valor = input(msg).upper()\n",
        "\n",
        "        if valida_opcoes(valor, opcoes.keys()):\n",
        "            break\n",
        "\n",
        "        msg = f'Entrada Inválida! As opções válidas são {\", \".join(opcoes.keys())}\\n' + msg\n",
        "\n",
        "    return valor\n",
        "\n",
        "def obter_valor(msg: str = '', func=float) -> float:\n",
        "    while True:\n",
        "        valor = input(msg)\n",
        "        try:\n",
        "            return func(valor)\n",
        "        except ValueError:\n",
        "            msg = f'Entrada Inválida! {msg}'\n",
        "\n",
        "def menu():\n",
        "    opcoes = {'C': 'Celsius', 'F': 'Fahrenheit', 'K': 'Kelvin'}\n",
        "\n",
        "    escala_entrada = obter_opcoes(opcoes, 'Escolha a escala de entrada')\n",
        "    escala_saida = obter_opcoes(opcoes, 'Escolha a escala de saída')\n",
        "    temperatura = obter_valor('Entre com a temperatura: ')\n",
        "\n",
        "    return escala_entrada, escala_saida, temperatura\n",
        "\n",
        "def kelvin_to_celsius(valor: float) -> float:\n",
        "    return valor - 273\n",
        "\n",
        "def kelvin_to_fahrenheit(valor: float) -> float:\n",
        "    return (valor - 273) * 1.8 + 32\n",
        "\n",
        "def celsius_to_kelvin(valor: float) -> float:\n",
        "    return valor + 273\n",
        "\n",
        "def celsius_to_fahrenheit(valor: float) -> float:\n",
        "    return 1.8 * valor + 32\n",
        "\n",
        "def fahrenheit_to_celsius(valor: float) -> float:\n",
        "    return (valor - 32) / 1.8\n",
        "\n",
        "def fahrenheit_to_kelvin(valor: float) -> float:\n",
        "    return (valor - 32) * 5/9 + 273\n",
        "\n",
        "def mesma_op(valor: float) -> float:\n",
        "    return valor\n",
        "\n",
        "OPERACOES = {'K': {'C': kelvin_to_celsius, 'F': kelvin_to_fahrenheit, 'K': mesma_op},\n",
        "             'C': {'K': celsius_to_kelvin, 'F': celsius_to_fahrenheit, 'C': mesma_op},\n",
        "             'F': {'C': fahrenheit_to_celsius, 'K': fahrenheit_to_kelvin, 'F': mesma_op}}\n",
        "\n",
        "while True:\n",
        "    escala_entrada, escala_saida, temperatura = menu()\n",
        "\n",
        "    temperatura_saida = OPERACOES[escala_entrada][escala_saida](temperatura)\n",
        "\n",
        "    if verifica_zero_absoluto(temperatura_saida, escala_saida, OPERACOES):\n",
        "        print(f'Conversão {escala_entrada} -> {escala_saida}: {temperatura_saida}')\n",
        "    else:\n",
        "        print('A temperatura informada está abaixo do zero absoluto!')\n",
        "\n",
        "    if obter_opcoes({'S': 'Sim', 'N': 'Não'}, 'Deseja Sair') == 'S':\n",
        "        break\n"
      ],
      "metadata": {
        "id": "xzuYTZ1cV9_m"
      },
      "execution_count": null,
      "outputs": []
    },
    {
      "cell_type": "markdown",
      "source": [],
      "metadata": {
        "id": "mvBJ6cqmVu-9"
      }
    }
  ]
}